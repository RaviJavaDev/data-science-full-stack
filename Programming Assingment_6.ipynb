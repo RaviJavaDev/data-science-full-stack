{
 "cells": [
  {
   "cell_type": "code",
   "execution_count": 8,
   "metadata": {},
   "outputs": [
    {
     "name": "stdout",
     "output_type": "stream",
     "text": [
      "Fibonacci sequence:\n",
      "0 1 1 2 3 5 8 13 21 34 "
     ]
    }
   ],
   "source": [
    "# 1.Write a Python Program to Display Fibonacci Sequence Using Recursion?\n",
    "#Ans:\n",
    "def recursion_fibo(n):\n",
    "    if n <= 1:\n",
    "        return n\n",
    "    else:\n",
    "        return(recursion_fibo(n-1) + recursion_fibo(n-2))\n",
    "\n",
    "nterms = 10\n",
    "if nterms <= 0:\n",
    "    print(\"Enter a positive integer\")\n",
    "else:\n",
    "    print(\"Fibonacci sequence:\")\n",
    "    for i in range(nterms):\n",
    "        print(recursion_fibo(i),end=' ')"
   ]
  },
  {
   "cell_type": "code",
   "execution_count": 11,
   "metadata": {},
   "outputs": [
    {
     "name": "stdout",
     "output_type": "stream",
     "text": [
      "enter number : 4\n",
      "The factorial of 4 is 24\n"
     ]
    }
   ],
   "source": [
    "# 2.Write a Python Program to Find Factorial of Number Using Recursion?\n",
    "#Ans:\n",
    "# Factorial of a number using recursion\n",
    "\n",
    "def recursion_factorial(n):\n",
    "    if n == 1:\n",
    "        return n\n",
    "    else:\n",
    "        return n*recursion_factorial(n-1)\n",
    "\n",
    "num = eval(input('enter number : '))\n",
    "\n",
    "if num < 0:\n",
    "    print(\"Enter positive number\")\n",
    "elif num == 0:\n",
    "    print(\"The factorial of 0 is 1\")\n",
    "else:\n",
    "    print(\"The factorial of\", num, \"is\", recursion_factorial(num))"
   ]
  },
  {
   "cell_type": "code",
   "execution_count": 13,
   "metadata": {},
   "outputs": [
    {
     "name": "stdout",
     "output_type": "stream",
     "text": [
      "Enter weight in kg: 65\n",
      "Enter height in meter: 1.79\n",
      "BMI for weight: 65 & height: 1.79 is 20.286507911738084\n"
     ]
    }
   ],
   "source": [
    "# 3.Write a Python Program to calculate your Body Mass Index?\n",
    "\n",
    "def calc_bmi_index(weight,height):\n",
    "    return weight/(height*height)\n",
    "    \n",
    "weight = eval(input('Enter weight in kg: '))\n",
    "height = eval(input('Enter height in meter: '))\n",
    "print('BMI for weight: {} & height: {} is {}'.format(weight,height,calc_bmi_index(weight,height)))\n"
   ]
  },
  {
   "cell_type": "code",
   "execution_count": 17,
   "metadata": {},
   "outputs": [
    {
     "name": "stdout",
     "output_type": "stream",
     "text": [
      "enter number: 3\n",
      "Natural logarithm of 3 is 1.0986122886681098\n"
     ]
    }
   ],
   "source": [
    "# 4.Write a Python Program to calculate the natural logarithm of any number?\n",
    "#Ans:\n",
    "import math\n",
    "\n",
    "num = eval(input('enter number: '))\n",
    "print('Natural logarithm of {} is {}'.format(num,math.log(num)))"
   ]
  },
  {
   "cell_type": "code",
   "execution_count": 23,
   "metadata": {},
   "outputs": [
    {
     "name": "stdout",
     "output_type": "stream",
     "text": [
      "enter number for cube sum: 4\n",
      "sum first 4 natural numbers is 100\n"
     ]
    }
   ],
   "source": [
    "# 5.Write a Python Program for cube sum of first n natural numbers?\n",
    "#Ans:\n",
    "def calc_cube_sum(num):\n",
    "    sum = 0\n",
    "    for i in range(1,num+1):\n",
    "        sum+=i*i*i\n",
    "    return sum\n",
    "\n",
    "num = eval(input('enter number for cube sum: '))\n",
    "print('sum first {} natural numbers is {}'.format(num,calc_cube_sum(num)))\n",
    "        \n"
   ]
  },
  {
   "cell_type": "code",
   "execution_count": null,
   "metadata": {},
   "outputs": [],
   "source": []
  }
 ],
 "metadata": {
  "kernelspec": {
   "display_name": "Python 3",
   "language": "python",
   "name": "python3"
  },
  "language_info": {
   "codemirror_mode": {
    "name": "ipython",
    "version": 3
   },
   "file_extension": ".py",
   "mimetype": "text/x-python",
   "name": "python",
   "nbconvert_exporter": "python",
   "pygments_lexer": "ipython3",
   "version": "3.7.1"
  }
 },
 "nbformat": 4,
 "nbformat_minor": 2
}
