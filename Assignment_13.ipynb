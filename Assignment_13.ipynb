{
 "cells": [
  {
   "cell_type": "code",
   "execution_count": null,
   "metadata": {},
   "outputs": [],
   "source": [
    "# 1. What advantages do Excel spreadsheets have over CSV spreadsheets?\n",
    "# Ans:\n",
    "# In Excel spreadsheets We have an option of formulas in Excel that can be used for data and its place of storage.\n",
    "# In Excel spreadsheets We can even add any charts, graphics, etc. to make it more presentable.\n",
    "\n",
    "\n"
   ]
  },
  {
   "cell_type": "code",
   "execution_count": null,
   "metadata": {},
   "outputs": [],
   "source": [
    "# 2.What do you pass to csv.reader() and csv.writer() to create reader and writer objects?\n",
    "# Ans:\n",
    "# To csv.reader() we pass any iterable object which can be list or file object.\n",
    "# To csv.writer() we pass file object."
   ]
  },
  {
   "cell_type": "code",
   "execution_count": null,
   "metadata": {},
   "outputs": [],
   "source": [
    "# 3. What modes do File objects for reader and writer objects need to be opened in?\n",
    "# Ans:\n",
    "# File objects for reader and writer objects need to be opened in 'w' i.e write & 'r' i.e read."
   ]
  },
  {
   "cell_type": "code",
   "execution_count": null,
   "metadata": {},
   "outputs": [],
   "source": [
    "# 4. What method takes a list argument and writes it to a CSV file?\n",
    "# Ans:\n",
    "# writerows() takes a list argument and writes it to a CSV file"
   ]
  },
  {
   "cell_type": "code",
   "execution_count": null,
   "metadata": {},
   "outputs": [],
   "source": [
    "# 5. What do the keyword arguments delimiter and line terminator do?\n",
    "# Ans:\n",
    "# delimiter specifies the character used to separate each field. The default is the comma (',').\n",
    "# "
   ]
  },
  {
   "cell_type": "code",
   "execution_count": 4,
   "metadata": {},
   "outputs": [
    {
     "name": "stdout",
     "output_type": "stream",
     "text": [
      "{'id': 1, 'name': 'ravi'}\n"
     ]
    }
   ],
   "source": [
    "# 6. What function takes a string of JSON data and returns a Python data structure?\n",
    "# Ans:\n",
    "# In json module loads() is present which takes a string of JSON data and returns a Python data structure.\n",
    "# Ex:\n",
    "import json\n",
    "dct = json.loads('{\"id\": 1, \"name\": \"ravi\"}')\n",
    "print(dct)\n"
   ]
  },
  {
   "cell_type": "code",
   "execution_count": 1,
   "metadata": {},
   "outputs": [
    {
     "data": {
      "text/plain": [
       "'{\"id\": 1, \"name\": \"ravi\"}'"
      ]
     },
     "execution_count": 1,
     "metadata": {},
     "output_type": "execute_result"
    }
   ],
   "source": [
    "# 7. What function takes a Python data structure and returns a string of JSON data?\n",
    "# Ans:\n",
    "# In json module dumps() is present which take Python data structure and returns a string of JSON data.\n",
    "# Ex:\n",
    "import json\n",
    "dct ={'id':1,'name':'ravi'}\n",
    "json.dumps(dct)\n"
   ]
  },
  {
   "cell_type": "code",
   "execution_count": null,
   "metadata": {},
   "outputs": [],
   "source": []
  }
 ],
 "metadata": {
  "kernelspec": {
   "display_name": "Python 3",
   "language": "python",
   "name": "python3"
  },
  "language_info": {
   "codemirror_mode": {
    "name": "ipython",
    "version": 3
   },
   "file_extension": ".py",
   "mimetype": "text/x-python",
   "name": "python",
   "nbconvert_exporter": "python",
   "pygments_lexer": "ipython3",
   "version": "3.7.1"
  }
 },
 "nbformat": 4,
 "nbformat_minor": 2
}
