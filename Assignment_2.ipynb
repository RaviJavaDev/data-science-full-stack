{
 "cells": [
  {
   "cell_type": "code",
   "execution_count": 1,
   "metadata": {},
   "outputs": [
    {
     "data": {
      "text/plain": [
       "'\\n1.What are the two values of the Boolean data type? How do you write them?\\n\\n'"
      ]
     },
     "execution_count": 1,
     "metadata": {},
     "output_type": "execute_result"
    }
   ],
   "source": [
    "\"\"\"\n",
    "1.What are the two values of the Boolean data type? How do you write them?\n",
    "\n",
    "\"\"\"\n",
    "#Answer:\n",
    "# True & False\n",
    "# Ex = is_male = True,is_female=False"
   ]
  },
  {
   "cell_type": "code",
   "execution_count": null,
   "metadata": {},
   "outputs": [],
   "source": [
    "\"\"\"\n",
    "2.What are the three different types of Boolean operators?\n",
    "\"\"\"\n",
    "#Answer:\n",
    "# and,or,not are three different types of Boolean operators.\n",
    "# Ex. a,b=3,3\n",
    "# if a>2 && b>2:\n",
    "#   print('True')\n"
   ]
  },
  {
   "cell_type": "code",
   "execution_count": null,
   "metadata": {},
   "outputs": [],
   "source": [
    "\"\"\"\n",
    "3.Make a list of each Boolean operator's truth tables\n",
    "(i.e. every possible combination of Boolean values for the operator and what it evaluate ).\n",
    "\"\"\"\n",
    "#Answer:\n",
    "# and operator\n",
    "# I1  I2  O/p    \n",
    "# 0   0    0\n",
    "# 0   1    0\n",
    "# 1   0    0\n",
    "# 1   1    1\n",
    "\n",
    "# or operator\n",
    "# I1  I2  O/p    \n",
    "# 0   0    0\n",
    "# 0   1    1\n",
    "# 1   0    1\n",
    "# 1   1    1\n",
    "\n",
    "# not operator\n",
    "# I1    O/p    \n",
    "# 0       1\n",
    "# 1       0\n"
   ]
  },
  {
   "cell_type": "code",
   "execution_count": null,
   "metadata": {},
   "outputs": [],
   "source": [
    "\"\"\"\n",
    "4. What are the values of the following expressions?\n",
    "(5 > 4) and (3 == 5)\n",
    "not (5 > 4)\n",
    "(5 > 4) or (3 == 5)\n",
    "not ((5 > 4) or (3 == 5))\n",
    "(True and True) and (True == False)\n",
    "(not False) or (not True)\n",
    "\n",
    "\n",
    "\"\"\"\n",
    "#Answer:\n",
    "# (5 > 4) and (3 == 5) o/p = False\n",
    "# not (5 > 4) o/p = False\n",
    "# (5 > 4) or (3 == 5) o/p = True\n",
    "# not ((5 > 4) or (3 == 5)) o/p = False\n",
    "# (True and True) and (True == False) o/p = False\n",
    "# (not False) or (not True) o/p = False"
   ]
  },
  {
   "cell_type": "code",
   "execution_count": null,
   "metadata": {},
   "outputs": [],
   "source": [
    "\"\"\"\n",
    "5. What are the six comparison operators?\n",
    "\"\"\"\n",
    "#Answer:\n",
    "# six comparison operators are bleow:\n",
    "# <,>,<=,>=,!=,=="
   ]
  },
  {
   "cell_type": "code",
   "execution_count": 20,
   "metadata": {},
   "outputs": [
    {
     "data": {
      "text/plain": [
       "'\\n6. How do you tell the difference between the equal to and assignment operators?\\nDescribe a condition and when you would use one.\\n'"
      ]
     },
     "execution_count": 20,
     "metadata": {},
     "output_type": "execute_result"
    }
   ],
   "source": [
    "\"\"\"\n",
    "6. How do you tell the difference between the equal to and assignment operators?\n",
    "Describe a condition and when you would use one.\n",
    "\"\"\"\n",
    "#Answer:\n",
    "# equal to :\n",
    "# It is relational or comparision operator.\n",
    "# It is denoted with == operator.\n",
    "# It is used to compare two values.\n",
    "# Ex: 1 == 2, 2 == 2\n",
    "\n",
    "# assignment operators:\n",
    "# It is an assignment operator.\n",
    "# It is denoted with  = operator.\n",
    "# It is used to assign values to variable.\n",
    "# Ex. a=3 , b=4\n",
    "\n",
    "# Will use equal to operator when want to compare to variables or values.\n",
    "\n",
    "# Will use  assignment operator when want to assign values to variable.\n",
    "\n",
    "\n"
   ]
  },
  {
   "cell_type": "code",
   "execution_count": null,
   "metadata": {},
   "outputs": [],
   "source": [
    "\"\"\"\n",
    "7. Identify the three blocks in this code:\n",
    "spam = 0\n",
    "if spam == 10:\n",
    "print('eggs')\n",
    "if spam > 5:\n",
    "print('bacon')\n",
    "else:\n",
    "print('ham')\n",
    "print('spam')\n",
    "print('spam')\n",
    "\n",
    "\"\"\"\n",
    "#Answer:\n",
    "# spam = 0\n",
    "# if spam == 10:\n",
    "#   print('eggs')\n",
    "# if spam > 5:\n",
    "#   print('bacon')\n",
    "# else:\n",
    "#   print('ham')\n",
    "#   print('spam')\n",
    "#   print('spam')"
   ]
  },
  {
   "cell_type": "code",
   "execution_count": null,
   "metadata": {},
   "outputs": [],
   "source": [
    "\"\"\"\n",
    "8. Write code that prints Hello if 1 is stored in spam, prints Howdy if 2 is stored in spam,\n",
    "and prints Greetings! if anything else is stored in spam.\n",
    "\n",
    "\"\"\"\n",
    "#Answer:\n",
    "# spam = 10\n",
    "# if spam == 1:\n",
    "#   print('spam')\n",
    "# elif spam ==2:\n",
    "#   print('Howdy')\n",
    "# else:\n",
    "#   print('Greetings!')"
   ]
  },
  {
   "cell_type": "code",
   "execution_count": null,
   "metadata": {},
   "outputs": [],
   "source": [
    "\"\"\"\n",
    "9.If your programme is stuck in an endless loop, what keys you’ll press?\n",
    "\"\"\"\n",
    "#Answer:\n",
    "# Interrupt the Kernal\n",
    "# From Kernel --> Interrupt\n",
    "# From Kernel --> Restart"
   ]
  },
  {
   "cell_type": "code",
   "execution_count": null,
   "metadata": {},
   "outputs": [],
   "source": [
    "\"\"\"\n",
    "10. How can you tell the difference between break and continue?\n",
    "\"\"\"\n",
    "#Answer:\n",
    "# break:\n",
    "# It is used to break or terminate or stop the execution of loop.\n",
    "# Control of program moves to next statement after loop.\n",
    "# Ex:\n",
    "# s='Hi i am Ravi'\n",
    "# for i in s:\n",
    "#   if i == 'a':\n",
    "#       break;\n",
    "#   print(i,end='')\n",
    "# print('out')\n",
    "# o/p = Hi i out\n",
    "`\n",
    "\n",
    "# continue:\n",
    "# It is used to skip execution of current iteration.\n",
    "# Loop does not terminate but it resumes with next iteration.\n",
    "# Ex:\n",
    "# s='Hi i am Ravi'\n",
    "# for i in s:\n",
    "#   if i == 'a':\n",
    "#       continue;\n",
    "#   print(i,end='')\n",
    "# print('out')\n",
    "# o/p = Hi i m Rviout\n"
   ]
  },
  {
   "cell_type": "code",
   "execution_count": null,
   "metadata": {},
   "outputs": [],
   "source": [
    "\"\"\"\n",
    "11. In a for loop, what is the difference between range(10), range(0, 10), and range(0, 10, 1)?\n",
    "\"\"\"\n",
    "#Answer:\n",
    "# range(10):\n",
    "# In this there is stop value only i.e 10.\n",
    "# start value is default 0.\n",
    "# step value is default 1.\n",
    "# It will generate numbers from 0 to 9.\n",
    "\n",
    "# range(0,10):\n",
    "# In this there is start & stop value only.\n",
    "# start value is 0.\n",
    "# stop value is 10.\n",
    "# step value is default 1.\n",
    "# It will generate numbers from 0 to 9.\n",
    "\n",
    "# range(0,10,1):\n",
    "# In this there is start , stop & step value.\n",
    "# start value is 0.\n",
    "# stop value is 10.\n",
    "# step value is 1.\n",
    "# It will generate numbers from 0 to 9. \n"
   ]
  },
  {
   "cell_type": "code",
   "execution_count": null,
   "metadata": {},
   "outputs": [],
   "source": [
    "\"\"\"\n",
    "12. Write a short program that prints the numbers 1 to 10 using a for loop.\n",
    "Then write an equivalent program that prints the numbers 1 to 10 using a while loop.\n",
    "\"\"\"\n",
    "#Answer:\n",
    "# for loop\n",
    "# for i in range(1,11):\n",
    "#   print(i,end=' ')\n",
    "\n",
    "# while loop\n",
    "# i=1\n",
    "# while i <=10:\n",
    "#   print(i,end=' ')\n",
    "#   i+=1"
   ]
  },
  {
   "cell_type": "code",
   "execution_count": null,
   "metadata": {},
   "outputs": [],
   "source": [
    "\"\"\"\n",
    "13. If you had a function named bacon() inside a module named spam, how would you call it after importing spam?\n",
    "\"\"\"\n",
    "#Answer:\n",
    "# from spam import bacon\n",
    "# bacon()"
   ]
  }
 ],
 "metadata": {
  "kernelspec": {
   "display_name": "Python 3",
   "language": "python",
   "name": "python3"
  },
  "language_info": {
   "codemirror_mode": {
    "name": "ipython",
    "version": 3
   },
   "file_extension": ".py",
   "mimetype": "text/x-python",
   "name": "python",
   "nbconvert_exporter": "python",
   "pygments_lexer": "ipython3",
   "version": "3.7.1"
  }
 },
 "nbformat": 4,
 "nbformat_minor": 2
}
