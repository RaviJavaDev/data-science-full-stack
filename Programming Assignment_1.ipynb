{
 "cells": [
  {
   "cell_type": "code",
   "execution_count": 2,
   "metadata": {},
   "outputs": [
    {
     "name": "stdout",
     "output_type": "stream",
     "text": [
      "\"Hello Python\"\n"
     ]
    }
   ],
   "source": [
    "# 1 Write a Python program to print \"Hello Python\"?\n",
    "print('\"Hello Python\"')"
   ]
  },
  {
   "cell_type": "code",
   "execution_count": 3,
   "metadata": {},
   "outputs": [
    {
     "name": "stdout",
     "output_type": "stream",
     "text": [
      "Addition is : 7\n",
      "Addition is : 0.75\n"
     ]
    }
   ],
   "source": [
    "# 2. Write a Python program to do arithmetical operations addition and division.?\n",
    "# Addition\n",
    "a , b = 3,4\n",
    "print('Addition is : {}'.format(a+b))\n",
    "print('Addition is : {}'.format(a/b))"
   ]
  },
  {
   "cell_type": "code",
   "execution_count": 6,
   "metadata": {},
   "outputs": [
    {
     "name": "stdout",
     "output_type": "stream",
     "text": [
      "For Base: 3 & Height: 2 Area of triangle is : 3.0\n"
     ]
    }
   ],
   "source": [
    "# 3.Write a Python program to find the area of a triangle?\n",
    "# Formula : A = 1/2 * (b * h)\n",
    "# b = Base , h = height, A = area\n",
    "b = 3\n",
    "h = 2\n",
    "area = 1/2 * (b*h)\n",
    "print('For Base: {} & Height: {} Area of triangle is : {}'.format(b,h,area))\n"
   ]
  },
  {
   "cell_type": "code",
   "execution_count": 16,
   "metadata": {},
   "outputs": [
    {
     "name": "stdout",
     "output_type": "stream",
     "text": [
      "before a = 2 & b = 3\n",
      "after a = 3 & b = 2\n"
     ]
    }
   ],
   "source": [
    "# 4. Write a Python program to swap two variables?\n",
    "a,b = 2,3\n",
    "print('before a = {} & b = {}'.format(a,b))\n",
    "temp = a \n",
    "a = b\n",
    "b=temp\n",
    "\n",
    "print('after a = {} & b = {}'.format(a,b))\n",
    "\n"
   ]
  },
  {
   "cell_type": "code",
   "execution_count": 36,
   "metadata": {},
   "outputs": [
    {
     "name": "stdout",
     "output_type": "stream",
     "text": [
      "enter start 32\n",
      "enter end 23\n",
      "133\n"
     ]
    }
   ],
   "source": [
    "# 5.Write a Python program to generate a random number?\n",
    "start = eval(input('enter start '))\n",
    "end = eval(input('enter end '))\n",
    "if(start>0 and end>0):\n",
    "    rand = int(start/2 + end/2 * 10 +2)\n",
    "    print(rand)\n",
    "else:\n",
    "    print('enter start & end value > 0')\n"
   ]
  },
  {
   "cell_type": "code",
   "execution_count": null,
   "metadata": {},
   "outputs": [],
   "source": []
  },
  {
   "cell_type": "code",
   "execution_count": null,
   "metadata": {},
   "outputs": [],
   "source": []
  }
 ],
 "metadata": {
  "kernelspec": {
   "display_name": "Python 3",
   "language": "python",
   "name": "python3"
  },
  "language_info": {
   "codemirror_mode": {
    "name": "ipython",
    "version": 3
   },
   "file_extension": ".py",
   "mimetype": "text/x-python",
   "name": "python",
   "nbconvert_exporter": "python",
   "pygments_lexer": "ipython3",
   "version": "3.7.1"
  }
 },
 "nbformat": 4,
 "nbformat_minor": 2
}
