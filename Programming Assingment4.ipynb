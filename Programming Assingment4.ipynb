{
 "cells": [
  {
   "cell_type": "code",
   "execution_count": 11,
   "metadata": {},
   "outputs": [
    {
     "name": "stdout",
     "output_type": "stream",
     "text": [
      "enter number: 6\n",
      "720\n"
     ]
    }
   ],
   "source": [
    "# 1.Write a Python Program to Find the Factorial of a Number?\n",
    "# Answer:\n",
    "num = eval(input('enter number: '))\n",
    "if num>0:\n",
    "    fact = 1\n",
    "    for i in range(1,num+1):\n",
    "        fact = fact * i\n",
    "    print(fact)\n",
    "else:\n",
    "    print('please enter number > 0')\n",
    "    \n",
    "    "
   ]
  },
  {
   "cell_type": "code",
   "execution_count": 44,
   "metadata": {},
   "outputs": [
    {
     "name": "stdout",
     "output_type": "stream",
     "text": [
      "enter number: 3\n",
      "\n",
      "Solution 1:\n",
      "3 X 1  =  3\n",
      "3 X 2  =  6\n",
      "3 X 3  =  9\n",
      "3 X 4  =  12\n",
      "3 X 5  =  15\n",
      "3 X 6  =  18\n",
      "3 X 7  =  21\n",
      "3 X 8  =  24\n",
      "3 X 9  =  27\n",
      "3 X 10  =  30\n",
      "\n",
      "Solution 2:\n",
      "['3 X 1 = 3', '3 X 2 = 6', '3 X 3 = 9', '3 X 4 = 12', '3 X 5 = 15', '3 X 6 = 18', '3 X 7 = 21', '3 X 8 = 24', '3 X 9 = 27', '3 X 10 = 30']\n"
     ]
    }
   ],
   "source": [
    "# 2.Write a Python Program to Display the multiplication Table?\n",
    "# Answer:\n",
    "# Soltion 1:\n",
    "num = eval(input('enter number: '))\n",
    "print('\\nSolution 1:')\n",
    "if num>0:\n",
    "    for i in range(1,11):\n",
    "        print(num,'X',i,' = ',num*i)\n",
    "else:\n",
    "    print('please enter number > 0')\n",
    "    \n",
    "#  Soltion 2:\n",
    "print('\\nSolution 2:')\n",
    "if num>0:\n",
    "    print(['{} X {} = {}'.format(num,i,num*i) for i in range(1,11)])\n",
    "else:\n",
    "    print('please enter number > 0')"
   ]
  },
  {
   "cell_type": "code",
   "execution_count": 60,
   "metadata": {},
   "outputs": [
    {
     "name": "stdout",
     "output_type": "stream",
     "text": [
      "enter terms: 4\n",
      "0 1 1 2 "
     ]
    }
   ],
   "source": [
    "# 3.Write a Python Program to Print the Fibonacci sequence?\n",
    "# Answer:\n",
    "num = eval(input('enter terms: '))\n",
    "num1 = 0\n",
    "num2 = 1\n",
    "count =0\n",
    "if num>0:\n",
    "    while count<num:\n",
    "        print(num1,end=' ')\n",
    "        sum = num1+num2\n",
    "        count+=1\n",
    "        num1 = num2\n",
    "        num2=sum\n",
    "else:\n",
    "    print('please enter number > 0')\n",
    "\n"
   ]
  },
  {
   "cell_type": "code",
   "execution_count": 83,
   "metadata": {},
   "outputs": [
    {
     "name": "stdout",
     "output_type": "stream",
     "text": [
      "Enter a number: 153\n",
      "153 is an Armstrong number\n"
     ]
    }
   ],
   "source": [
    "# 4.Write a Python Program to Check Armstrong Number?\n",
    "# Answer:\n",
    "\n",
    "num = eval(input(\"Enter a number: \"))\n",
    "sum = 0\n",
    "temp = num\n",
    "if num>0:\n",
    "    while temp > 0:\n",
    "        digit = temp % 10\n",
    "        sum += digit ** 3\n",
    "        temp //= 10\n",
    "\n",
    "    if num == sum:\n",
    "        print(num,\"is an Armstrong number\")\n",
    "    else:\n",
    "        print(num,\"is not an Armstrong number\")\n",
    "else:\n",
    "    print('please enter number > 0')"
   ]
  },
  {
   "cell_type": "code",
   "execution_count": 84,
   "metadata": {},
   "outputs": [
    {
     "name": "stdout",
     "output_type": "stream",
     "text": [
      "Enter a interval: 500\n",
      "Armstrong Numbers in an Interval 1 to 500 are [1, 153, 370, 371, 407]\n"
     ]
    }
   ],
   "source": [
    "# 5.Write a Python Program to Find Armstrong Number in an Interval?\n",
    "# Answer:\n",
    "num = eval(input(\"Enter a interval: \"))\n",
    "lst = []\n",
    "if num>0:\n",
    "    for i in range(1,num):\n",
    "        sum = 0\n",
    "        temp = i\n",
    "        while temp > 0:\n",
    "            digit = temp % 10\n",
    "            sum += digit ** 3\n",
    "            temp //= 10\n",
    "        if i == sum:\n",
    "            lst.append(i)\n",
    "    print('Armstrong Numbers in an Interval 1 to {} are {}'.format(num,lst))\n",
    "else:\n",
    "    print('please enter number > 0')"
   ]
  },
  {
   "cell_type": "code",
   "execution_count": 86,
   "metadata": {},
   "outputs": [
    {
     "name": "stdout",
     "output_type": "stream",
     "text": [
      "Enter a interval: 16\n",
      "sum of natural numbers is  136\n"
     ]
    }
   ],
   "source": [
    "# 6.Write a Python Program to Find the Sum of Natural Numbers?\n",
    "# Answer:\n",
    "num = eval(input(\"Enter a number: \"))\n",
    "if num>0:\n",
    "    sum = 0\n",
    "    for i in range(1,num+1):\n",
    "        sum+=i\n",
    "    print('sum of natural numbers is ',sum)\n",
    "else:\n",
    "    print('please enter number > 0')"
   ]
  }
 ],
 "metadata": {
  "kernelspec": {
   "display_name": "Python 3",
   "language": "python",
   "name": "python3"
  },
  "language_info": {
   "codemirror_mode": {
    "name": "ipython",
    "version": 3
   },
   "file_extension": ".py",
   "mimetype": "text/x-python",
   "name": "python",
   "nbconvert_exporter": "python",
   "pygments_lexer": "ipython3",
   "version": "3.7.1"
  }
 },
 "nbformat": 4,
 "nbformat_minor": 2
}
