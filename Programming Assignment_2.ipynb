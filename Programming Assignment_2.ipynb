{
 "cells": [
  {
   "cell_type": "code",
   "execution_count": 9,
   "metadata": {},
   "outputs": [
    {
     "name": "stdout",
     "output_type": "stream",
     "text": [
      "enter kilometers: 4\n",
      "4 kilometers is 2.4856 miles.\n"
     ]
    }
   ],
   "source": [
    "# 1.Write a Python program to convert kilometers to miles?\n",
    "km = eval(input('enter kilometers: '))\n",
    "if km>0:\n",
    "    miles = km * 0.6214\n",
    "    print('{} kilometers is {} miles.'.format(km,miles))\n",
    "else:\n",
    "    print('enter km > 0')"
   ]
  },
  {
   "cell_type": "code",
   "execution_count": 12,
   "metadata": {},
   "outputs": [
    {
     "name": "stdout",
     "output_type": "stream",
     "text": [
      "enter temp in Celsius : 32\n",
      "32 Celsius temperatiure in fahrenheit is 89.6\n"
     ]
    }
   ],
   "source": [
    "# 2.Write a Python program to convert Celsius to Fahrenheit?\n",
    "# Formula : Fahrenheit = Celsius * 1.8 + 32\n",
    "celsius = eval(input('enter temp in Celsius : '))\n",
    "fahrenheit = celsius * 1.8 + 32\n",
    "print('{} Celsius temperatiure in fahrenheit is {}'.format(celsius,fahrenheit))\n"
   ]
  },
  {
   "cell_type": "code",
   "execution_count": null,
   "metadata": {},
   "outputs": [],
   "source": [
    "# 3.Write a Python program to display calendar?"
   ]
  },
  {
   "cell_type": "code",
   "execution_count": 21,
   "metadata": {},
   "outputs": [
    {
     "name": "stdout",
     "output_type": "stream",
     "text": [
      "The solution are (-1-1.7320508075688772j) and (-1+1.7320508075688772j)\n"
     ]
    }
   ],
   "source": [
    "# 4.Write a Python program to solve quadratic equation?\n",
    "import cmath\n",
    "a = 1\n",
    "b = 2\n",
    "c = 4\n",
    "  \n",
    "\n",
    "dis = (b**2) - (4 * a*c)\n",
    "  \n",
    "ans1 = (-b-cmath.sqrt(dis))/(2 * a)\n",
    "ans2 = (-b + cmath.sqrt(dis))/(2 * a)\n",
    "print('The solution are {0} and {1}'.format(ans1,ans2))"
   ]
  },
  {
   "cell_type": "code",
   "execution_count": 17,
   "metadata": {},
   "outputs": [
    {
     "name": "stdout",
     "output_type": "stream",
     "text": [
      "before swap a= 3 & b= 2\n",
      "after swap a= 2 & b= 3\n"
     ]
    }
   ],
   "source": [
    "# 5.Write a Python program to swap two variables without temp variable?\n",
    "a=3\n",
    "b=2\n",
    "print('before swap a= {} & b= {}'.format(a,b))\n",
    "a=a+b\n",
    "b=a-b\n",
    "a=a-b\n",
    "print('after swap a= {} & b= {}'.format(a,b))"
   ]
  },
  {
   "cell_type": "code",
   "execution_count": null,
   "metadata": {},
   "outputs": [],
   "source": []
  }
 ],
 "metadata": {
  "kernelspec": {
   "display_name": "Python 3",
   "language": "python",
   "name": "python3"
  },
  "language_info": {
   "codemirror_mode": {
    "name": "ipython",
    "version": 3
   },
   "file_extension": ".py",
   "mimetype": "text/x-python",
   "name": "python",
   "nbconvert_exporter": "python",
   "pygments_lexer": "ipython3",
   "version": "3.7.1"
  }
 },
 "nbformat": 4,
 "nbformat_minor": 2
}
