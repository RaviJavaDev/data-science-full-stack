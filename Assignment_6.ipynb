{
 "cells": [
  {
   "cell_type": "code",
   "execution_count": 14,
   "metadata": {},
   "outputs": [
    {
     "name": "stdout",
     "output_type": "stream",
     "text": [
      "Hello \"Ravi\" how r u.\n"
     ]
    }
   ],
   "source": [
    "# 1. What are escape characters, and how do you use them?\n",
    "# Ans:\n",
    "# An escape character is backslash \"\\\" followed by character that we want to insert.\n",
    "# Below are escapse charavter in python:\n",
    "# \\' Single Quote\n",
    "# \\\\ Backslash\n",
    "# \\n New Line\n",
    "# \\r Carriage Return\n",
    "# \\t Tab\n",
    "# \\b Backspace\n",
    "# \\f Form Feed\n",
    "# \\ooo Octal value\n",
    "# \\xhh Hex value\n",
    "\n",
    "# Ex: If we want to display name \"Ravi\" \n",
    "\n",
    "name = \"Hello \\\"Ravi\\\" how r u.\"\n",
    "print(name)"
   ]
  },
  {
   "cell_type": "code",
   "execution_count": 2,
   "metadata": {},
   "outputs": [],
   "source": [
    "# 2. What do the escape characters n and t stand for?\n",
    "# Ans:\n",
    "# \\n New Line is used for adding new line between two statements.\n",
    "# \\t Tab is used for adding tab between two words."
   ]
  },
  {
   "cell_type": "code",
   "execution_count": 3,
   "metadata": {},
   "outputs": [],
   "source": [
    "# 3. What is the way to include backslash characters in a string?\n",
    "# Ans:\n",
    "# Using \\\\ Backslash "
   ]
  },
  {
   "cell_type": "code",
   "execution_count": 15,
   "metadata": {},
   "outputs": [
    {
     "data": {
      "text/plain": [
       "\"Howl's Moving Castle\""
      ]
     },
     "execution_count": 15,
     "metadata": {},
     "output_type": "execute_result"
    }
   ],
   "source": [
    "# 4. The string \"Howl's Moving Castle\" is a correct value. \n",
    "# Why isn't the single quote character in the word Howl's not escaped a problem?\n",
    "# Ans:\n",
    "# Because this complete string present in double quotes \" \" so there is no escaped a problem.\n"
   ]
  },
  {
   "cell_type": "code",
   "execution_count": 5,
   "metadata": {},
   "outputs": [],
   "source": [
    "# 5. How do you write a string of newlines if you don't want to use the n character?"
   ]
  },
  {
   "cell_type": "code",
   "execution_count": 20,
   "metadata": {},
   "outputs": [
    {
     "name": "stdout",
     "output_type": "stream",
     "text": [
      "e\n",
      "Hello\n",
      "Hello\n",
      "lo, world!\n"
     ]
    }
   ],
   "source": [
    "# 6. What are the values of the given expressions?\n",
    "# 'Hello, world!'[1]\n",
    "# 'Hello, world!'[0:5]\n",
    "# 'Hello, world!'[:5]\n",
    "# 'Hello, world!'[3:]\n",
    "# Ans:\n",
    "print('Hello, world!'[1]) # e\n",
    "print('Hello, world!'[0:5]) # Hello\n",
    "print('Hello, world!'[:5]) # Hello\n",
    "print('Hello, world!'[3:]) # lo, world!"
   ]
  },
  {
   "cell_type": "code",
   "execution_count": 23,
   "metadata": {},
   "outputs": [
    {
     "name": "stdout",
     "output_type": "stream",
     "text": [
      "HELLO\n",
      "True\n",
      "hello\n"
     ]
    }
   ],
   "source": [
    "# 7. What are the values of the following expressions?\n",
    "# 'Hello'.upper()\n",
    "# 'Hello'.upper().isupper()\n",
    "# 'Hello'.upper().lower()\n",
    "# Ans:\n",
    "print('Hello'.upper()) # HELLO\n",
    "print('Hello'.upper().isupper()) # True\n",
    "print('Hello'.upper().lower()) # hello"
   ]
  },
  {
   "cell_type": "code",
   "execution_count": 25,
   "metadata": {},
   "outputs": [
    {
     "name": "stdout",
     "output_type": "stream",
     "text": [
      "['Remember,', 'remember,', 'the', 'fifth', 'of', 'July.']\n",
      "There-can-only-one.\n"
     ]
    }
   ],
   "source": [
    "# 8. What are the values of the following expressions?\n",
    "# 'Remember, remember, the fifth of July.'.split()\n",
    "# '-'.join('There can only one.'.split())\n",
    "# Ans:\n",
    "print('Remember, remember, the fifth of July.'.split()) # ['Remember,', 'remember,', 'the', 'fifth', 'of', 'July.']\n",
    "print('-'.join('There can only one.'.split())) # There-can-only-one."
   ]
  },
  {
   "cell_type": "code",
   "execution_count": 38,
   "metadata": {
    "scrolled": true
   },
   "outputs": [
    {
     "name": "stdout",
     "output_type": "stream",
     "text": [
      "how r u                hello\n",
      "hello                how r u\n",
      "how r u        hello        \n"
     ]
    }
   ],
   "source": [
    "# 9. What are the methods for right-justifying, left-justifying, and centering a string?\n",
    "# Ans:\n",
    "# rjust used for right-justifying a string\n",
    "# ljust used for left-justifying a string\n",
    "# center used for centering a string\n",
    "# Ex:\n",
    "name = 'hello'\n",
    "print('how r u',name.rjust(20))\n",
    "print(name.ljust(20),'how r u')\n",
    "print('how r u',name.center(20))"
   ]
  },
  {
   "cell_type": "code",
   "execution_count": 47,
   "metadata": {},
   "outputs": [
    {
     "name": "stdout",
     "output_type": "stream",
     "text": [
      "    Hello how r u    \n",
      "    Hello how r u ravi\n",
      "ravi Hello how r u     ravi\n",
      "ravi Hello how r u\n"
     ]
    }
   ],
   "source": [
    "# 10. What is the best way to remove whitespace characters from the start or end?\n",
    "# Ans:\n",
    "# Using lstrip , rstrip and strip we can remove whitespace characters from the start or end.\n",
    "# Ex:\n",
    "name = '    Hello how r u    '\n",
    "print(name)\n",
    "print(name.rstrip(),'ravi')\n",
    "print('ravi',name.lstrip(),'ravi')\n",
    "print('ravi',name.strip())"
   ]
  },
  {
   "cell_type": "code",
   "execution_count": null,
   "metadata": {},
   "outputs": [],
   "source": []
  }
 ],
 "metadata": {
  "kernelspec": {
   "display_name": "Python 3",
   "language": "python",
   "name": "python3"
  },
  "language_info": {
   "codemirror_mode": {
    "name": "ipython",
    "version": 3
   },
   "file_extension": ".py",
   "mimetype": "text/x-python",
   "name": "python",
   "nbconvert_exporter": "python",
   "pygments_lexer": "ipython3",
   "version": "3.7.1"
  }
 },
 "nbformat": 4,
 "nbformat_minor": 2
}
