{
 "cells": [
  {
   "cell_type": "code",
   "execution_count": 1,
   "metadata": {},
   "outputs": [],
   "source": [
    "# 1. How do you distinguish between shutil.copy() and shutil.copytree()?\n",
    "# Ans:\n",
    "# shutil.copy() - It is used copy file from source to destination and it returns file destination path.\n",
    "# shutil.copytree() - It is used to Recursively copy a directory tree from source to destination.\n"
   ]
  },
  {
   "cell_type": "code",
   "execution_count": 8,
   "metadata": {},
   "outputs": [],
   "source": [
    "# 2. What function is used to rename files?\n",
    "# Ans:\n",
    "# rename funciton in os module used to rename files.\n",
    "import os\n",
    "os.rename('one.txt','hello.txt')"
   ]
  },
  {
   "cell_type": "code",
   "execution_count": 11,
   "metadata": {},
   "outputs": [],
   "source": [
    "# 3. What is the difference between the delete functions in the send2trash and shutil modules?\n",
    "# Ans:\n",
    "# delete functions in shutil permenantly deltes the files.\n",
    "# delete functions in send2trash moves file to recycle bin.\n"
   ]
  },
  {
   "cell_type": "code",
   "execution_count": 15,
   "metadata": {},
   "outputs": [],
   "source": [
    "# 4.ZipFile objects have a close() method just like File objects’ close() method.\n",
    "# What ZipFile method is equivalent to File objects’ open() method?\n",
    "# Ans:\n",
    "# To open zipfile there also open() in zipfile.\n",
    "# Ex:\n",
    "# from zipfile import zipfile\n",
    "# with ZipFile('an.zip', 'r') as zip:\n",
    "#   zip.open('az')\n"
   ]
  },
  {
   "cell_type": "code",
   "execution_count": 43,
   "metadata": {},
   "outputs": [],
   "source": [
    "# 5. Create a programme that searches a folder tree for files with a certain file extension (such as .pdf or .jpg).\n",
    "# Copy these files from whatever location they are in to a new folder.\n",
    "# Ans:\n",
    "import os\n",
    "import shutil\n",
    "os.chdir(r'C:\\Users\\TiaaUser\\Downloads')\n",
    "for root,dir,file in os.walk('.'):\n",
    "    try:\n",
    "        for file_nm in file:\n",
    "            if not file_nm.startswith('.') and '.' in file_nm :\n",
    "                file_ext = file_nm.split('.')[1]\n",
    "                if file_ext in ['pdf','jpg','txt','docx','xls','zip','csv','dll','exe']:\n",
    "                    os.makedirs(name=file_ext,exist_ok=True)\n",
    "                    shutil.copy(os.path.join(root,file_nm),os.path.join(os.getcwd(),file_ext,file_nm))\n",
    "    except Exception as e:\n",
    "        print('exception occured {}'.format(e))\n"
   ]
  },
  {
   "cell_type": "code",
   "execution_count": null,
   "metadata": {},
   "outputs": [],
   "source": []
  }
 ],
 "metadata": {
  "kernelspec": {
   "display_name": "Python 3",
   "language": "python",
   "name": "python3"
  },
  "language_info": {
   "codemirror_mode": {
    "name": "ipython",
    "version": 3
   },
   "file_extension": ".py",
   "mimetype": "text/x-python",
   "name": "python",
   "nbconvert_exporter": "python",
   "pygments_lexer": "ipython3",
   "version": "3.7.1"
  }
 },
 "nbformat": 4,
 "nbformat_minor": 2
}
