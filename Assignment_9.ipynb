{
 "cells": [
  {
   "cell_type": "code",
   "execution_count": 3,
   "metadata": {},
   "outputs": [
    {
     "name": "stdout",
     "output_type": "stream",
     "text": [
      "Assignment_1.ipynb\n"
     ]
    }
   ],
   "source": [
    "# 1. To what does a relative path refer?\n",
    "# Ans:\n",
    "# It is the path to some file respect to current working directoy.\n",
    "# Ex.\n",
    "# If absolute path for file is C:/Users/ravis/Assignment/Assignment/Assignment_1.docx and my PWD is C:/Users/ravis then\n",
    "# relative path to Assignment_1.docx would be Assignment/Assignment_1.docx.\n",
    "# In python to get relative path of file we can use os module.\n",
    "# Ex.\n",
    "import os\n",
    "os.chdir('C:\\\\Ravis\\\\Data Science\\\\Full Stack DS\\\\Python\\\\Assignments')\n",
    "print(os.path.relpath('Assignment_1.ipynb'))\n"
   ]
  },
  {
   "cell_type": "code",
   "execution_count": 9,
   "metadata": {},
   "outputs": [
    {
     "name": "stdout",
     "output_type": "stream",
     "text": [
      "C:\\Ravis\\Data Science\\Full Stack DS\\Python\\Assignments\\Assignment_1.ipynb\n"
     ]
    }
   ],
   "source": [
    "# 2. What does an absolute path start with your operating system?\n",
    "# Ans:\n",
    "# An absolute path start with root of the file system\n",
    "# In python to get absolute path of file we can use os module.\n",
    "# Ex:\n",
    "import os\n",
    "print(os.path.abspath('Assignment_1.ipynb'))"
   ]
  },
  {
   "cell_type": "code",
   "execution_count": 18,
   "metadata": {},
   "outputs": [
    {
     "name": "stdout",
     "output_type": "stream",
     "text": [
      "C:\\Ravis\\Data Science\\Full Stack DS\\Python\n",
      "C:\\Ravis\\Data Science\\Full Stack DS\\Python\\Assignments\\Assignment\n"
     ]
    }
   ],
   "source": [
    "# 3. What do the functions os.getcwd() and os.chdir() do?\n",
    "# Ans:\n",
    "# os.getcwd() - It is used to get current working directory to specified path.\n",
    "# os.chdir() - It is used to change current working directory.\n",
    "# Ex:\n",
    "import os\n",
    "os.chdir('C:\\Ravis\\Data Science\\Full Stack DS\\Python')\n",
    "print(os.getcwd())\n",
    "os.chdir('C:\\Ravis\\Data Science\\Full Stack DS\\Python\\Assignments\\Assignment')\n",
    "print(os.getcwd())"
   ]
  },
  {
   "cell_type": "code",
   "execution_count": 19,
   "metadata": {},
   "outputs": [],
   "source": [
    "# 4. What are the . and .. folders?\n",
    "# Ans:\n",
    "# . represent current directory.\n",
    "# .. represent parent to current directory."
   ]
  },
  {
   "cell_type": "code",
   "execution_count": 33,
   "metadata": {},
   "outputs": [
    {
     "name": "stdout",
     "output_type": "stream",
     "text": [
      "C:/bacon/eggs\n",
      "spam.txt\n"
     ]
    }
   ],
   "source": [
    "# 5. In C:\\bacon\\eggs\\spam.txt, which part is the dir name, and which part is the base name?\n",
    "# Ans:\n",
    "# C:\\bacon\\eggs is dir name.\n",
    "# spam.txt is base name.\n",
    "# Ex:\n",
    "import os\n",
    "print(os.path.dirname('C:/bacon/eggs/spam.txt'))\n",
    "print(os.path.basename('C:/bacon/eggs/spam.txt'))\n"
   ]
  },
  {
   "cell_type": "code",
   "execution_count": 35,
   "metadata": {},
   "outputs": [],
   "source": [
    "# 6. What are the three “mode” arguments that can be passed to the open() function?\n",
    "# Ans:\n",
    "# r,w,a are mode arguments that can be passed to the open() function.\n",
    "# r is read\n",
    "# w is write\n",
    "# a is append\n",
    "# default is read i.e r mode.\n",
    "# Ex:\n",
    "f = open(file='one.txt',mode='w')\n",
    "f.write('hello')\n",
    "f.close()"
   ]
  },
  {
   "cell_type": "code",
   "execution_count": 7,
   "metadata": {},
   "outputs": [],
   "source": [
    "# 7. What happens if an existing file is opened in write mode?\n",
    "# Ans:\n",
    "# If existing file opend in write mode then existing content will overriden or its truncated and new content that written.\n",
    "# Ex:\n",
    "f = open(file='one.txt',mode='w')\n",
    "f.write('how r u')\n",
    "f.close()"
   ]
  },
  {
   "cell_type": "code",
   "execution_count": 38,
   "metadata": {},
   "outputs": [
    {
     "name": "stdout",
     "output_type": "stream",
     "text": [
      "h\n",
      "['how r u']\n"
     ]
    }
   ],
   "source": [
    "# 8. How do you tell the difference between read() and readlines()?\n",
    "# Ans:\n",
    "# read() - \n",
    "# read() will consider each character in file separately means it will read file character by character \n",
    "# using iterator until EOF.\n",
    "# In read() we pass arg to specify number of characters to read from file.\n",
    "# Ex:\n",
    "f = open(file='one.txt',mode='r')\n",
    "print(f.read(1))\n",
    "f.close()\n",
    "\n",
    "# readlines():\n",
    "# readlines() is used to read number of liner which is specified as argument if not then it will read all lines unti EOF.\n",
    "# In read() we pass arg to specify number of lines to read from file.\n",
    "# Ex:\n",
    "f = open(file='one.txt',mode='r')\n",
    "print(f.readlines(1))\n",
    "f.close()"
   ]
  },
  {
   "cell_type": "code",
   "execution_count": 9,
   "metadata": {},
   "outputs": [],
   "source": [
    "# 9. What data structure does a shelf value resemble?\n",
    "# Ans:\n",
    "# It resemble dictionary data structure."
   ]
  },
  {
   "cell_type": "code",
   "execution_count": null,
   "metadata": {},
   "outputs": [],
   "source": []
  }
 ],
 "metadata": {
  "kernelspec": {
   "display_name": "Python 3",
   "language": "python",
   "name": "python3"
  },
  "language_info": {
   "codemirror_mode": {
    "name": "ipython",
    "version": 3
   },
   "file_extension": ".py",
   "mimetype": "text/x-python",
   "name": "python",
   "nbconvert_exporter": "python",
   "pygments_lexer": "ipython3",
   "version": "3.7.1"
  }
 },
 "nbformat": 4,
 "nbformat_minor": 2
}
