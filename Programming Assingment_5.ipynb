{
 "cells": [
  {
   "cell_type": "code",
   "execution_count": 4,
   "metadata": {},
   "outputs": [
    {
     "name": "stdout",
     "output_type": "stream",
     "text": [
      "enter value of x: 4\n",
      "enter value of y: 6\n",
      "The L.C.M. of 4 and 6 is 12\n"
     ]
    }
   ],
   "source": [
    "# 1.Write a Python Program to Find LCM?\n",
    "#Ans:\n",
    "def find_lcm(x,y):\n",
    "    if x>y:\n",
    "        greater = x\n",
    "    else:\n",
    "         greater = y\n",
    "    while True:\n",
    "        if greater % x == 0 and greater % y == 0:\n",
    "            lcm = greater\n",
    "            break\n",
    "        greater+=1\n",
    "    return lcm\n",
    "\n",
    "x = eval(input('enter first number: '))\n",
    "y = eval(input('enter second number: '))\n",
    "print(\"The L.C.M. of {} and {} is {}\".format(x,y,find_lcm(x, y)))  "
   ]
  },
  {
   "cell_type": "code",
   "execution_count": 10,
   "metadata": {},
   "outputs": [
    {
     "name": "stdout",
     "output_type": "stream",
     "text": [
      "Enter first number: 5\n",
      "Enter second number: 10\n",
      "The H.C.F. of 5 and 10 is 5\n"
     ]
    }
   ],
   "source": [
    "# 2.Write a Python Program to Find HCF?\n",
    "#Ans:\n",
    "\n",
    "def hcf(x, y):  \n",
    "    if x > y:  \n",
    "        smaller = y  \n",
    "    else:  \n",
    "        smaller = x  \n",
    "    for i in range(1,smaller + 1):  \n",
    "        if((x % i == 0) and (y % i == 0)):  \n",
    "            hcf = i  \n",
    "    return hcf  \n",
    "  \n",
    "x = eval(input(\"Enter first number: \"))  \n",
    "y = eval(input(\"Enter second number: \")) \n",
    "print(\"The H.C.F. of {} and {} is {}\".format(x,y,hcf(x, y)))  \n"
   ]
  },
  {
   "cell_type": "code",
   "execution_count": 20,
   "metadata": {},
   "outputs": [
    {
     "name": "stdout",
     "output_type": "stream",
     "text": [
      "binary value of 123 is 0b1111011\n",
      "Octal value of 123 is 0o173\n",
      "Hexadecimal value of 123 is 0x7b\n"
     ]
    }
   ],
   "source": [
    "# 3.Write a Python Program to Convert Decimal to Binary, Octal and Hexadecimal?\n",
    "#Ans:\n",
    "dec = 123\n",
    "print('binary value of {} is {}'.format(dec,bin(dec)))\n",
    "print('Octal value of {} is {}'.format(dec,oct(dec)))\n",
    "print('Hexadecimal value of {} is {}'.format(dec,hex(dec)))\n"
   ]
  },
  {
   "cell_type": "code",
   "execution_count": 25,
   "metadata": {},
   "outputs": [
    {
     "name": "stdout",
     "output_type": "stream",
     "text": [
      "enter any character: a\n",
      "ASCII value of a is 97\n"
     ]
    }
   ],
   "source": [
    "# 4.Write a Python Program To Find ASCII value of a character?\n",
    "# Ans:\n",
    "char = input('enter any character: ')\n",
    "print('ASCII value of {} is {}'.format(char,ord(char)))"
   ]
  },
  {
   "cell_type": "code",
   "execution_count": 14,
   "metadata": {},
   "outputs": [
    {
     "name": "stdout",
     "output_type": "stream",
     "text": [
      "addtion is : 30\n",
      "substraction is : 10\n",
      "multiplication is : 200\n",
      "division is : 2.0\n"
     ]
    }
   ],
   "source": [
    "# 5.Write a Python Program to Make a Simple Calculator with 4 basic mathematical operations?\n",
    "#Ans:\n",
    "class Calculator:\n",
    "    def __init__(self,a,b):\n",
    "        self.a=a\n",
    "        self.b=b\n",
    "    \n",
    "    def addition(self):\n",
    "        return self.a+self.b\n",
    "    \n",
    "    def substract(self):\n",
    "        return self.a-self.b\n",
    "    \n",
    "    def multiply(self):\n",
    "        return self.a*self.b\n",
    "    \n",
    "    def divide(self):\n",
    "        return self.a/self.b\n",
    "\n",
    "calculator = Calculator(20,10)\n",
    "print('addtion is :',calculator.addition())\n",
    "print('substraction is :',calculator.substract())\n",
    "print('multiplication is :',calculator.multiply())\n",
    "print('division is :',calculator.divide())\n",
    "\n",
    "    \n",
    "    \n",
    "    \n",
    "    \n"
   ]
  },
  {
   "cell_type": "code",
   "execution_count": null,
   "metadata": {},
   "outputs": [],
   "source": []
  }
 ],
 "metadata": {
  "kernelspec": {
   "display_name": "Python 3",
   "language": "python",
   "name": "python3"
  },
  "language_info": {
   "codemirror_mode": {
    "name": "ipython",
    "version": 3
   },
   "file_extension": ".py",
   "mimetype": "text/x-python",
   "name": "python",
   "nbconvert_exporter": "python",
   "pygments_lexer": "ipython3",
   "version": "3.7.1"
  }
 },
 "nbformat": 4,
 "nbformat_minor": 2
}
