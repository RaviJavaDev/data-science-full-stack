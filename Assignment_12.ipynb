{
 "cells": [
  {
   "cell_type": "code",
   "execution_count": null,
   "metadata": {},
   "outputs": [],
   "source": [
    "#1. In what modes should the PdfFileReader() and PdfFileWriter() File objects will be opened?\n",
    "# Ans:\n",
    "# PdfFileReader() File objects will be opened in 'rb' mode.\n",
    "# PdfFileWriter() File objects will be opened in 'wb' mode."
   ]
  },
  {
   "cell_type": "code",
   "execution_count": 2,
   "metadata": {},
   "outputs": [
    {
     "name": "stdout",
     "output_type": "stream",
     "text": [
      "{'/Type': '/Page', '/Contents': IndirectObject(120, 0), '/Resources': IndirectObject(118, 0), '/MediaBox': [0, 0, 612, 792], '/Parent': IndirectObject(78, 0)}\n"
     ]
    }
   ],
   "source": [
    "# 2. From a PdfFileReader object, how do you get a Page object for page 5?\n",
    "# Ans:\n",
    "import PyPDF2\n",
    "\n",
    "f = open('s3fs.pdf','rb')\n",
    "pdf_reader = PyPDF2.PdfFileReader(f)\n",
    "pdf_reader.getNumPages()\n",
    "print(pdf_reader.getPage(5))"
   ]
  },
  {
   "cell_type": "code",
   "execution_count": null,
   "metadata": {},
   "outputs": [],
   "source": [
    "# 3. What PdfFileReader variable stores the number of pages in the PDF document?\n",
    "# Ans:\n",
    "# pdf_reader.getNumPages() stores the number of pages in the PDF document."
   ]
  },
  {
   "cell_type": "code",
   "execution_count": null,
   "metadata": {},
   "outputs": [],
   "source": [
    "# 4. If a PdfFileReader object’s PDF is encrypted with the password swordfish,\n",
    "# what must you do before you can obtain Page objects from it?\n",
    "# Ans:\n",
    "# Before obtaining Page objects we need decrypt it by passing password  in decrypt() of PdfFileReader class.\n",
    "#Ex - \n",
    "import PyPDF2\n",
    "\n",
    "file = open('s3fs_encrypted.pdf','rb')\n",
    "pdf_reader = PyPDF2.PdfFileReader(file)\n",
    "pdf_reader.decrypt(password='1234')\n",
    "page = pdf_reader.getPage(0)\n",
    "page.rotateCounterClockwise()\n",
    "print(page)"
   ]
  },
  {
   "cell_type": "code",
   "execution_count": null,
   "metadata": {},
   "outputs": [],
   "source": [
    "# 5. What methods do you use to rotate a page?\n",
    "# Ans:\n",
    "# By using rotateClockwise() or rotateCounterClockwise() method of PageObject class we can use to rotate page."
   ]
  },
  {
   "cell_type": "code",
   "execution_count": null,
   "metadata": {},
   "outputs": [],
   "source": [
    "# 6. What is the difference between a Run object and a Paragraph object?\n",
    "# Ans:\n"
   ]
  },
  {
   "cell_type": "code",
   "execution_count": null,
   "metadata": {},
   "outputs": [],
   "source": [
    "# 7. How do you obtain a list of Paragraph objects for a Document object that’s stored in a variable named doc?\n",
    "# Ans:\n",
    "# By using paragraphs method present in Document object.\n",
    "import docx\n",
    "  \n",
    "doc = docx.Document()\n",
    "for para in doc.paragraphs:\n",
    "    print(para.text)"
   ]
  },
  {
   "cell_type": "code",
   "execution_count": null,
   "metadata": {},
   "outputs": [],
   "source": [
    "# 8. What type of object has bold, underline, italic, strike, and outline variables?\n",
    "# Ans:\n",
    "# run object had bold, underline, italic, strike, and outline variables"
   ]
  },
  {
   "cell_type": "code",
   "execution_count": null,
   "metadata": {},
   "outputs": [],
   "source": [
    "# 9. What is the difference between False, True, and None for the bold variable?\n",
    "# Ans:\n",
    "# True & False correspond to on and off respectively.\n",
    "# None indicates the property is not specified directly on the run and its effective value is taken from the style hierarchy.\n"
   ]
  },
  {
   "cell_type": "code",
   "execution_count": null,
   "metadata": {},
   "outputs": [],
   "source": [
    "# 10. How do you create a Document object for a new Word document?\n",
    "# Ans:\n",
    "import docx\n",
    "  \n",
    "doc = docx.Document()"
   ]
  },
  {
   "cell_type": "code",
   "execution_count": 2,
   "metadata": {},
   "outputs": [
    {
     "data": {
      "text/plain": [
       "<docx.text.run.Run at 0x2abfc92bf60>"
      ]
     },
     "execution_count": 2,
     "metadata": {},
     "output_type": "execute_result"
    }
   ],
   "source": [
    "# 11. How do you add a paragraph with the text 'Hello, there!' to a Document object stored in a variable named doc?\n",
    "# Ans:\n",
    "import docx\n",
    "  \n",
    "doc = docx.Document()\n",
    "para = doc.add_paragraph('Hello, there!')\n"
   ]
  },
  {
   "cell_type": "code",
   "execution_count": null,
   "metadata": {},
   "outputs": [],
   "source": [
    "# 12. What integers represent the levels of headings available in Word documents?\n",
    "# Ans:\n",
    "# If *level* is 0, the style is set to `Title`. \n",
    "# If *level* is 1 (or omitted), `Heading 1` is used. \n",
    "# Otherwise the style is set to `Heading"
   ]
  },
  {
   "cell_type": "code",
   "execution_count": null,
   "metadata": {},
   "outputs": [],
   "source": []
  }
 ],
 "metadata": {
  "kernelspec": {
   "display_name": "Python 3",
   "language": "python",
   "name": "python3"
  },
  "language_info": {
   "codemirror_mode": {
    "name": "ipython",
    "version": 3
   },
   "file_extension": ".py",
   "mimetype": "text/x-python",
   "name": "python",
   "nbconvert_exporter": "python",
   "pygments_lexer": "ipython3",
   "version": "3.7.1"
  }
 },
 "nbformat": 4,
 "nbformat_minor": 2
}
