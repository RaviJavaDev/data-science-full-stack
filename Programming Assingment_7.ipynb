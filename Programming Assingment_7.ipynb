{
 "cells": [
  {
   "cell_type": "code",
   "execution_count": 3,
   "metadata": {},
   "outputs": [
    {
     "name": "stdout",
     "output_type": "stream",
     "text": [
      "sum of [1, 2, 4, 3, 3, 5] is 18\n"
     ]
    }
   ],
   "source": [
    "# 1.Write a Python Program to find sum of array?\n",
    "#Ans:\n",
    "\n",
    "def calc_sum(nums):\n",
    "    sum = 0\n",
    "    for i in nums:\n",
    "        sum+=i\n",
    "    return sum\n",
    "\n",
    "nums = [1,2,4,3,3,5]\n",
    "print('sum of {} is {}'.format(nums,calc_sum(nums)))"
   ]
  },
  {
   "cell_type": "code",
   "execution_count": 9,
   "metadata": {},
   "outputs": [
    {
     "name": "stdout",
     "output_type": "stream",
     "text": [
      "largest number in [43, 45, 42, 23, 56, 89] is 89\n"
     ]
    }
   ],
   "source": [
    "# 2.Write a Python Program to find largest element in an array?\n",
    "#Ans:\n",
    "def find_max(nums):\n",
    "    max=nums[0]\n",
    "    for i in range(0,len(nums)):\n",
    "        if nums[i]> max:\n",
    "            max=nums[i]\n",
    "    return max\n",
    "\n",
    "nums = [43,45,42,23,56,89]\n",
    "print('largest number in {} is {}'.format(nums,find_max(nums)))"
   ]
  },
  {
   "cell_type": "code",
   "execution_count": 12,
   "metadata": {},
   "outputs": [
    {
     "name": "stdout",
     "output_type": "stream",
     "text": [
      "Array before left rotation is:  [1, 2, 3, 4, 5, 6, 7] \n",
      "Array after left rotation is:  [3, 4, 5, 6, 7, 1, 2]\n"
     ]
    }
   ],
   "source": [
    "# 3.Write a Python Program for array rotation?\n",
    "#Ans:\n",
    "def rotate_array(arr, n, d):\n",
    "    temp = []\n",
    "    i = 0\n",
    "    while (i < d):\n",
    "        temp.append(arr[i])\n",
    "        i = i + 1\n",
    "    i = 0\n",
    "    while (d < n):\n",
    "        arr[i] = arr[d]\n",
    "        i = i + 1\n",
    "        d = d + 1\n",
    "    arr[:] = arr[: i] + temp\n",
    "    return arr\n",
    " \n",
    "arr = [1, 2, 3, 4, 5, 6, 7]\n",
    "print(\"Array before left rotation is: \",arr, end=' ')\n",
    "print(\"\\nArray after left rotation is: \", end=' ')\n",
    "print(rotate_array(arr, len(arr), 2))\n",
    " "
   ]
  },
  {
   "cell_type": "code",
   "execution_count": 14,
   "metadata": {},
   "outputs": [
    {
     "name": "stdout",
     "output_type": "stream",
     "text": [
      "5 6 52 36 12 10 "
     ]
    }
   ],
   "source": [
    "# 4.Write a Python Program to Split the array and add the first part to the end?\n",
    "#Ans:\n",
    "def split_array(a, n, k): \n",
    "    b = a[:k]\n",
    "    return (a[k::]+b[::])\n",
    "          \n",
    "arr = [12, 10, 5, 6, 52, 36]\n",
    "n = len(arr)\n",
    "position = 2\n",
    "arr = split_array(arr, n, position)\n",
    "for i in range(0, n): \n",
    "    print(arr[i], end = ' ')"
   ]
  },
  {
   "cell_type": "code",
   "execution_count": 16,
   "metadata": {},
   "outputs": [
    {
     "name": "stdout",
     "output_type": "stream",
     "text": [
      "True\n"
     ]
    }
   ],
   "source": [
    "# 5.Write a Python Program to check if given array is Monotonic?\n",
    "#Ans:\n",
    "def is_monotonic(A):\n",
    "    return (all(A[i] <= A[i + 1] for i in range(len(A) - 1)) or\n",
    "            all(A[i] >= A[i + 1] for i in range(len(A) - 1)))\n",
    "  \n",
    "A = [6, 5, 4, 4]\n",
    "  \n",
    "print(is_monotonic(A))"
   ]
  }
 ],
 "metadata": {
  "kernelspec": {
   "display_name": "Python 3",
   "language": "python",
   "name": "python3"
  },
  "language_info": {
   "codemirror_mode": {
    "name": "ipython",
    "version": 3
   },
   "file_extension": ".py",
   "mimetype": "text/x-python",
   "name": "python",
   "nbconvert_exporter": "python",
   "pygments_lexer": "ipython3",
   "version": "3.7.1"
  }
 },
 "nbformat": 4,
 "nbformat_minor": 2
}
