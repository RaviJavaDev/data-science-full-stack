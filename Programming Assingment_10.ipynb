{
 "cells": [
  {
   "cell_type": "code",
   "execution_count": 2,
   "metadata": {},
   "outputs": [
    {
     "name": "stdout",
     "output_type": "stream",
     "text": [
      "sum of [1, 2, 4, 3, 3, 5] is 18\n"
     ]
    }
   ],
   "source": [
    "#1.Write a Python program to find sum of elements in list?\n",
    "#Ans:\n",
    "def calc_sum(nums):\n",
    "    sum = 0\n",
    "    for i in nums:\n",
    "        sum+=i\n",
    "    return sum\n",
    "\n",
    "nums = [1,2,4,3,3,5]\n",
    "print('sum of {} is {}'.format(nums,calc_sum(nums)))"
   ]
  },
  {
   "cell_type": "code",
   "execution_count": 1,
   "metadata": {},
   "outputs": [],
   "source": [
    "#2.Write a Python program to  Multiply all numbers in the list?\n",
    "#Ans:"
   ]
  },
  {
   "cell_type": "code",
   "execution_count": 5,
   "metadata": {},
   "outputs": [
    {
     "name": "stdout",
     "output_type": "stream",
     "text": [
      "smallest number in [43, 45, 42, 23, 56, 89] is 23\n"
     ]
    }
   ],
   "source": [
    "#3. Write a Python program to find smallest number in a list?\n",
    "#Ans:\n",
    "def find_small(nums):\n",
    "    min=nums[0]\n",
    "    for i in range(0,len(nums)):\n",
    "        if nums[i]< min:\n",
    "            min=nums[i]\n",
    "    return min\n",
    "\n",
    "nums = [43,45,42,23,56,89]\n",
    "print('smallest number in {} is {}'.format(nums,find_small(nums)))"
   ]
  },
  {
   "cell_type": "code",
   "execution_count": 6,
   "metadata": {},
   "outputs": [
    {
     "name": "stdout",
     "output_type": "stream",
     "text": [
      "largest number in [43, 45, 42, 23, 56, 89] is 89\n"
     ]
    }
   ],
   "source": [
    "# 4.Write a Python program to find largest number in a list?\n",
    "#Ans:\n",
    "def find_large(nums):\n",
    "    max=nums[0]\n",
    "    for i in range(0,len(nums)):\n",
    "        if nums[i]> max:\n",
    "            max=nums[i]\n",
    "    return max\n",
    "\n",
    "nums = [43,45,42,23,56,89]\n",
    "print('largest number in {} is {}'.format(nums,find_large(nums)))"
   ]
  },
  {
   "cell_type": "code",
   "execution_count": 11,
   "metadata": {},
   "outputs": [
    {
     "data": {
      "text/plain": [
       "56"
      ]
     },
     "execution_count": 11,
     "metadata": {},
     "output_type": "execute_result"
    }
   ],
   "source": [
    "# 5.Write a Python program to find second largest number in a list?\n",
    "#Ans:\n",
    "nums = [43,45,42,23,56,89]\n",
    "sorted(nums,reverse=True)[1]"
   ]
  },
  {
   "cell_type": "code",
   "execution_count": 12,
   "metadata": {},
   "outputs": [
    {
     "name": "stdout",
     "output_type": "stream",
     "text": [
      "enter number 2\n"
     ]
    },
    {
     "data": {
      "text/plain": [
       "45"
      ]
     },
     "execution_count": 12,
     "metadata": {},
     "output_type": "execute_result"
    }
   ],
   "source": [
    "# 6.Write a Python program to find N largest elements from a list?\n",
    "#Ans:\n",
    "nums = [43,45,42,23,56,89]\n",
    "num = eval(input('enter number position to find largest'))\n",
    "sorted(nums,reverse=True)[num]"
   ]
  },
  {
   "cell_type": "code",
   "execution_count": 15,
   "metadata": {},
   "outputs": [
    {
     "name": "stdout",
     "output_type": "stream",
     "text": [
      "[42, 56, 2, 4, 6, 28, 22]\n"
     ]
    }
   ],
   "source": [
    "# 7.Write a Python program to print even numbers in a list?\n",
    "#Ans:\n",
    "nums = [43,45,42,23,56,89,2,4,6,3,28,22]\n",
    "print([i for i in nums if i%2==0])"
   ]
  },
  {
   "cell_type": "code",
   "execution_count": 16,
   "metadata": {},
   "outputs": [
    {
     "name": "stdout",
     "output_type": "stream",
     "text": [
      "[43, 45, 23, 89, 3]\n"
     ]
    }
   ],
   "source": [
    "# 8.Write a Python program to print odd numbers in a List?\n",
    "#Ans:\n",
    "nums = [43,45,42,23,56,89,2,4,6,3,28,22]\n",
    "print([i for i in nums if i%2!=0])"
   ]
  },
  {
   "cell_type": "code",
   "execution_count": 22,
   "metadata": {},
   "outputs": [
    {
     "name": "stdout",
     "output_type": "stream",
     "text": [
      "[43, 45, 42, [1, 2, 3]]\n"
     ]
    }
   ],
   "source": [
    "# 9.Write a Python program to Remove empty List from List?\n",
    "#Ans:\n",
    "nums = [43,45,42,[],[1,2,3]]\n",
    "lst = []\n",
    "for i in nums:\n",
    "    if type(i) is list:\n",
    "        if len(i)>0:\n",
    "            lst.append(i)\n",
    "    else:\n",
    "        lst.append(i)\n",
    "print(lst)"
   ]
  },
  {
   "cell_type": "code",
   "execution_count": 28,
   "metadata": {},
   "outputs": [
    {
     "name": "stdout",
     "output_type": "stream",
     "text": [
      "Before :  [43, 45, 42, [1, 2, 3]]\n",
      "Before :  [43, 45, 42, [1, 2, 3]]\n",
      "After :  [43, 45, 42, [0, 2, 3]]\n",
      "After :  [43, 45, 42, [1, 2, 3]]\n"
     ]
    }
   ],
   "source": [
    "# 10.Write a Python program to Cloning or Copying a list?\n",
    "#Ans:\n",
    "import copy\n",
    "nums = [43,45,42,[1,2,3]]\n",
    "lst = copy.deepcopy(nums)\n",
    "print('Before : ',lst)\n",
    "print('Before : ',nums)\n",
    "lst[3][0]=0\n",
    "print('After : ',lst)\n",
    "print('After : ',nums)"
   ]
  },
  {
   "cell_type": "code",
   "execution_count": 30,
   "metadata": {},
   "outputs": [
    {
     "name": "stdout",
     "output_type": "stream",
     "text": [
      "{1: 2, 2: 2, 3: 2, 5: 2, 4: 2, 47: 1, 65: 1, 100: 2, 101: 1}\n"
     ]
    }
   ],
   "source": [
    "# 11.Write a Python program to Count occurrences of an element in a list?\n",
    "#Ans:\n",
    "nums = [1,2,3,1,3,2,5,4,5,47,65,4,100,101,100]\n",
    "dct = {}\n",
    "for i in nums:\n",
    "    if i in dct:\n",
    "        dct[i] = dct[i] + 1\n",
    "    else:\n",
    "        dct[i] = 1\n",
    "print(dct)"
   ]
  },
  {
   "cell_type": "code",
   "execution_count": null,
   "metadata": {},
   "outputs": [],
   "source": []
  }
 ],
 "metadata": {
  "kernelspec": {
   "display_name": "Python 3",
   "language": "python",
   "name": "python3"
  },
  "language_info": {
   "codemirror_mode": {
    "name": "ipython",
    "version": 3
   },
   "file_extension": ".py",
   "mimetype": "text/x-python",
   "name": "python",
   "nbconvert_exporter": "python",
   "pygments_lexer": "ipython3",
   "version": "3.7.1"
  }
 },
 "nbformat": 4,
 "nbformat_minor": 2
}
