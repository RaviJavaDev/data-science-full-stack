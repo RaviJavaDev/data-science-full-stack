{
 "cells": [
  {
   "cell_type": "code",
   "execution_count": 6,
   "metadata": {},
   "outputs": [
    {
     "data": {
      "text/plain": [
       "\" 1. In the below elements which of them are values or an expression? \\neg:- values can be integer or string and expressions will be mathematical operators.\\n\\n* \\n'hello'\\n-87.8\\n- \\n/ \\n+\\n6 \\n\\n\""
      ]
     },
     "execution_count": 6,
     "metadata": {},
     "output_type": "execute_result"
    }
   ],
   "source": [
    "\"\"\" 1. In the below elements which of them are values or an expression? \n",
    "eg:- values can be integer or string and expressions will be mathematical operators.\n",
    "\n",
    "* \n",
    "'hello'\n",
    "-87.8\n",
    "- \n",
    "/ \n",
    "+\n",
    "6 \n",
    "\n",
    "\"\"\"\n",
    "# Answer:\n",
    "# Values = 'hello',-87.8,6\n",
    "# Expressions = *,-,/,+"
   ]
  },
  {
   "cell_type": "code",
   "execution_count": 23,
   "metadata": {},
   "outputs": [
    {
     "data": {
      "text/plain": [
       "'\\n2. What is the difference between string and variable?\\n\\n'"
      ]
     },
     "execution_count": 23,
     "metadata": {},
     "output_type": "execute_result"
    }
   ],
   "source": [
    "\"\"\"\n",
    "2. What is the difference between string and variable?\n",
    "\n",
    "\"\"\"\n",
    "#Answer:\n",
    "# string is data type.\n",
    "# variable is placeholder or place in memory to hold value for variable of any type i.e string,int,float,complex etc.."
   ]
  },
  {
   "cell_type": "code",
   "execution_count": 4,
   "metadata": {},
   "outputs": [
    {
     "data": {
      "text/plain": [
       "'\\n3. Describe three different data types.\\n'"
      ]
     },
     "execution_count": 4,
     "metadata": {},
     "output_type": "execute_result"
    }
   ],
   "source": [
    "\"\"\"\n",
    "3. Describe three different data types.\n",
    "\"\"\"\n",
    "#Answer:\n",
    "# string = It is data type that used to hold alpha numeric values.Ex- name:string = 'Ravi'\n",
    "# int = It is data type that used to hold numeric type values. Ex- age:int=32\n",
    "# float =  It is data type that used to hold floating point real values. Ex - sal:height =5.3 \n",
    "# bool = It is data type that used to hold true or false vlaues. Ex - raining:bool = True\n"
   ]
  },
  {
   "cell_type": "code",
   "execution_count": 22,
   "metadata": {},
   "outputs": [
    {
     "data": {
      "text/plain": [
       "'\\n4. What is an expression made up of? What do all expressions do?\\n'"
      ]
     },
     "execution_count": 22,
     "metadata": {},
     "output_type": "execute_result"
    }
   ],
   "source": [
    "\"\"\"\n",
    "4. What is an expression made up of? What do all expressions do?\n",
    "\"\"\"\n",
    "#Answer:\n",
    "# An expression is made up of operand i.e. variables and operator i.e +,-,/,% etc.\n",
    "# All expression are used to perform some kind of operation like addition,subtraction,division etc.\n",
    "# Ex. a,b=3,4 \n",
    "# sum = a+b"
   ]
  },
  {
   "cell_type": "code",
   "execution_count": 19,
   "metadata": {},
   "outputs": [
    {
     "data": {
      "text/plain": [
       "'\\n5. This assignment statements, like spam = 10. What is the difference between an expression and a statement?\\n'"
      ]
     },
     "execution_count": 19,
     "metadata": {},
     "output_type": "execute_result"
    }
   ],
   "source": [
    "\"\"\"\n",
    "5. This assignment statements, like spam = 10. What is the difference between an expression and a statement?\n",
    "\"\"\"\n",
    "#Answer:\n",
    "# An expression is combination of operand & operator to perform some operation like a+b ,a-b.\n",
    "# An expression is part of statement.\n",
    "# A statement can be assignment statement or print statement.\n",
    "# A statement can have expression like c = a+b\n"
   ]
  },
  {
   "cell_type": "code",
   "execution_count": 21,
   "metadata": {},
   "outputs": [
    {
     "data": {
      "text/plain": [
       "'\\n6. After running the following code, what does the variable bacon contain?\\nbacon = 22\\nbacon + 1\\n\\n'"
      ]
     },
     "execution_count": 21,
     "metadata": {},
     "output_type": "execute_result"
    }
   ],
   "source": [
    "\"\"\"\n",
    "6. After running the following code, what does the variable bacon contain?\n",
    "bacon = 22\n",
    "bacon + 1\n",
    "\n",
    "\"\"\"\n",
    "#Answer:\n",
    "# 22"
   ]
  },
  {
   "cell_type": "code",
   "execution_count": 11,
   "metadata": {},
   "outputs": [
    {
     "data": {
      "text/plain": [
       "\"\\n7. What should the values of the following two terms be?\\n'spam' + 'spamspam'\\n'spam' * 3\\n\\n\""
      ]
     },
     "execution_count": 11,
     "metadata": {},
     "output_type": "execute_result"
    }
   ],
   "source": [
    "\"\"\"\n",
    "7. What should the values of the following two terms be?\n",
    "'spam' + 'spamspam'\n",
    "'spam' * 3\n",
    "\n",
    "\"\"\"\n",
    "#Answer:\n",
    "# 'spamspamspam'\n",
    "# 'spamspamspam'\n"
   ]
  },
  {
   "cell_type": "code",
   "execution_count": 12,
   "metadata": {},
   "outputs": [
    {
     "data": {
      "text/plain": [
       "'\\n8. Why is eggs a valid variable name while 100 is invalid?\\n'"
      ]
     },
     "execution_count": 12,
     "metadata": {},
     "output_type": "execute_result"
    }
   ],
   "source": [
    "\"\"\"\n",
    "8. Why is eggs a valid variable name while 100 is invalid?\n",
    "\"\"\"\n",
    "#Answer:\n",
    "# In python variable name can start with character or _ but not with number or any special character.\n",
    "# so eggs is valid variable name and 100 is invalid variable name.\n"
   ]
  },
  {
   "cell_type": "code",
   "execution_count": 20,
   "metadata": {},
   "outputs": [
    {
     "data": {
      "text/plain": [
       "'\\n9. What three functions can be used to get the integer, floating-point number, or string version of a value?\\n'"
      ]
     },
     "execution_count": 20,
     "metadata": {},
     "output_type": "execute_result"
    }
   ],
   "source": [
    "\"\"\"\n",
    "9. What three functions can be used to get the integer, floating-point number, or string version of a value?\n",
    "\"\"\"\n",
    "#Answer:\n",
    "# For integer int(a)\n",
    "# for float float(a)\n",
    "# for string str(a)"
   ]
  },
  {
   "cell_type": "code",
   "execution_count": 18,
   "metadata": {},
   "outputs": [
    {
     "data": {
      "text/plain": [
       "\"\\n10. Why does this expression cause an error? How can you fix it?\\n'I have eaten ' + 99 + ' burritos.'\\n\""
      ]
     },
     "execution_count": 18,
     "metadata": {},
     "output_type": "execute_result"
    }
   ],
   "source": [
    "\"\"\"\n",
    "10. Why does this expression cause an error? How can you fix it?\n",
    "'I have eaten ' + 99 + ' burritos.'\n",
    "\"\"\"\n",
    "#Answer:\n",
    "# In pthon string can be concatenated with only string.Here number 99 is concatented with string that will not work.\n",
    "# To fix this error 99 should be converted into str using str(99) \n",
    "# Fix = 'I have eaten ' + str(99) + ' burritos.'\n"
   ]
  },
  {
   "cell_type": "code",
   "execution_count": null,
   "metadata": {},
   "outputs": [],
   "source": []
  }
 ],
 "metadata": {
  "kernelspec": {
   "display_name": "Python 3",
   "language": "python",
   "name": "python3"
  },
  "language_info": {
   "codemirror_mode": {
    "name": "ipython",
    "version": 3
   },
   "file_extension": ".py",
   "mimetype": "text/x-python",
   "name": "python",
   "nbconvert_exporter": "python",
   "pygments_lexer": "ipython3",
   "version": "3.7.1"
  }
 },
 "nbformat": 4,
 "nbformat_minor": 2
}
